{
 "cells": [
  {
   "cell_type": "markdown",
   "metadata": {},
   "source": [
    "# Pivotal Cloud Deployment Steps"
   ]
  },
  {
   "cell_type": "markdown",
   "metadata": {},
   "source": [
    "1. Open the file in Pycharm - create a new environment using conda - python3.6 \n",
    "\n",
    "2. install he requirements : \n",
    "        \n",
    "        pip install -r requirements.txt\n",
    "3. Create a Pivotal account using your Mail ID.\n",
    "\n",
    "#### Pushig the Code from Local System to Cloud.\n",
    "\n",
    "4. Download and Install CF CLI.\n",
    "\n",
    "5. Now check  if the CLI is installed propperly. open the command prompt and type 'cf'. you will get the prompt. if you don't get the prompt, just re-open the CMD, and it should work.\n",
    "\n",
    "6. Now we need to login to the Cf CLI using the Email ID and Password (the same with which you have created the account). \n",
    "\n",
    "        for 1st time use \n",
    "        cf login -a https://api.run.pivotal.io\n",
    "        \n",
    "        after 1st login you can use\n",
    "        cf login\n",
    "        \n",
    "7. Specify the space no.\n",
    "8. Now push the code to the cloud using\n",
    "\n",
    "        cf push\n",
    "\n",
    "9. It will give you a route, copy it and paste it into the browser. Now our app is live."
   ]
  }
 ],
 "metadata": {
  "kernelspec": {
   "display_name": "Python 3",
   "language": "python",
   "name": "python3"
  },
  "language_info": {
   "codemirror_mode": {
    "name": "ipython",
    "version": 3
   },
   "file_extension": ".py",
   "mimetype": "text/x-python",
   "name": "python",
   "nbconvert_exporter": "python",
   "pygments_lexer": "ipython3",
   "version": "3.7.7"
  }
 },
 "nbformat": 4,
 "nbformat_minor": 4
}
